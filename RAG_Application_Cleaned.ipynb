{
 "nbformat": 4,
 "nbformat_minor": 0,
 "metadata": {
  "colab": {
   "provenance": [],
   "gpuType": "T4"
  },
  "kernelspec": {
   "name": "python3",
   "display_name": "Python 3"
  },
  "language_info": {
   "name": "python"
  },
  "accelerator": "GPU"
 },
 "cells": [
  {
   "cell_type": "code",
   "execution_count": null,
   "metadata": {
    "colab": {
     "base_uri": "https://localhost:8080/"
    },
    "collapsed": true,
    "id": "RFoBLOxeileb",
    "outputId": "63d4e05d-c9ce-4ce1-ddd5-1e52cb4bb07c"
   },
   "outputs": [
    {
     "output_type": "stream",
     "name": "stdout",
     "text": [
      "Requirement already satisfied: sentence-transformers in /usr/local/lib/python3.11/dist-packages (4.1.0)\n",
      "Collecting faiss-cpu\n",
      "  Downloading faiss_cpu-1.11.0-cp311-cp311-manylinux_2_28_x86_64.whl.metadata (4.8 kB)\n",
      "Requirement already satisfied: transformers in /usr/local/lib/python3.11/dist-packages (4.52.4)\n",
      "Requirement already satisfied: torch in /usr/local/lib/python3.11/dist-packages (2.6.0+cu124)\n",
      "Requirement already satisfied: tqdm in /usr/local/lib/python3.11/dist-packages (from sentence-transformers) (4.67.1)\n",
      "Requirement already satisfied: scikit-learn in /usr/local/lib/python3.11/dist-packages (from sentence-transformers) (1.6.1)\n",
      "Requirement already satisfied: scipy in /usr/local/lib/python3.11/dist-packages (from sentence-transformers) (1.15.3)\n",
      "Requirement already satisfied: huggingface-hub>=0.20.0 in /usr/local/lib/python3.11/dist-packages (from sentence-transformers) (0.33.0)\n",
      "Requirement already satisfied: Pillow in /usr/local/lib/python3.11/dist-packages (from sentence-transformers) (11.2.1)\n",
      "Requirement already satisfied: typing_extensions>=4.5.0 in /usr/local/lib/python3.11/dist-packages (from sentence-transformers) (4.14.0)\n",
      "Requirement already satisfied: numpy<3.0,>=1.25.0 in /usr/local/lib/python3.11/dist-packages (from faiss-cpu) (2.0.2)\n",
      "Requirement already satisfied: packaging in /usr/local/lib/python3.11/dist-packages (from faiss-cpu) (24.2)\n",
      "Requirement already satisfied: filelock in /usr/local/lib/python3.11/dist-packages (from transformers) (3.18.0)\n",
      "Requirement already satisfied: pyyaml>=5.1 in /usr/local/lib/python3.11/dist-packages (from transformers) (6.0.2)\n",
      "Requirement already satisfied: regex!=2019.12.17 in /usr/local/lib/python3.11/dist-packages (from transformers) (2024.11.6)\n",
      "Requirement already satisfied: requests in /usr/local/lib/python3.11/dist-packages (from transformers) (2.32.3)\n",
      "Requirement already satisfied: tokenizers<0.22,>=0.21 in /usr/local/lib/python3.11/dist-packages (from transformers) (0.21.1)\n",
      "Requirement already satisfied: safetensors>=0.4.3 in /usr/local/lib/python3.11/dist-packages (from transformers) (0.5.3)\n",
      "Requirement already satisfied: networkx in /usr/local/lib/python3.11/dist-packages (from torch) (3.5)\n",
      "Requirement already satisfied: jinja2 in /usr/local/lib/python3.11/dist-packages (from torch) (3.1.6)\n",
      "Requirement already satisfied: fsspec in /usr/local/lib/python3.11/dist-packages (from torch) (2025.3.2)\n",
      "Collecting nvidia-cuda-nvrtc-cu12==12.4.127 (from torch)\n",
      "  Downloading nvidia_cuda_nvrtc_cu12-12.4.127-py3-none-manylinux2014_x86_64.whl.metadata (1.5 kB)\n",
      "Collecting nvidia-cuda-runtime-cu12==12.4.127 (from torch)\n",
      "  Downloading nvidia_cuda_runtime_cu12-12.4.127-py3-none-manylinux2014_x86_64.whl.metadata (1.5 kB)\n",
      "Collecting nvidia-cuda-cupti-cu12==12.4.127 (from torch)\n",
      "  Downloading nvidia_cuda_cupti_cu12-12.4.127-py3-none-manylinux2014_x86_64.whl.metadata (1.6 kB)\n",
      "Collecting nvidia-cudnn-cu12==9.1.0.70 (from torch)\n",
      "  Downloading nvidia_cudnn_cu12-9.1.0.70-py3-none-manylinux2014_x86_64.whl.metadata (1.6 kB)\n",
      "Collecting nvidia-cublas-cu12==12.4.5.8 (from torch)\n",
      "  Downloading nvidia_cublas_cu12-12.4.5.8-py3-none-manylinux2014_x86_64.whl.metadata (1.5 kB)\n",
      "Collecting nvidia-cufft-cu12==11.2.1.3 (from torch)\n",
      "  Downloading nvidia_cufft_cu12-11.2.1.3-py3-none-manylinux2014_x86_64.whl.metadata (1.5 kB)\n",
      "Collecting nvidia-curand-cu12==10.3.5.147 (from torch)\n",
      "  Downloading nvidia_curand_cu12-10.3.5.147-py3-none-manylinux2014_x86_64.whl.metadata (1.5 kB)\n",
      "Collecting nvidia-cusolver-cu12==11.6.1.9 (from torch)\n",
      "  Downloading nvidia_cusolver_cu12-11.6.1.9-py3-none-manylinux2014_x86_64.whl.metadata (1.6 kB)\n",
      "Collecting nvidia-cusparse-cu12==12.3.1.170 (from torch)\n",
      "  Downloading nvidia_cusparse_cu12-12.3.1.170-py3-none-manylinux2014_x86_64.whl.metadata (1.6 kB)\n",
      "Requirement already satisfied: nvidia-cusparselt-cu12==0.6.2 in /usr/local/lib/python3.11/dist-packages (from torch) (0.6.2)\n",
      "Requirement already satisfied: nvidia-nccl-cu12==2.21.5 in /usr/local/lib/python3.11/dist-packages (from torch) (2.21.5)\n",
      "Requirement already satisfied: nvidia-nvtx-cu12==12.4.127 in /usr/local/lib/python3.11/dist-packages (from torch) (12.4.127)\n",
      "Collecting nvidia-nvjitlink-cu12==12.4.127 (from torch)\n",
      "  Downloading nvidia_nvjitlink_cu12-12.4.127-py3-none-manylinux2014_x86_64.whl.metadata (1.5 kB)\n",
      "Requirement already satisfied: triton==3.2.0 in /usr/local/lib/python3.11/dist-packages (from torch) (3.2.0)\n",
      "Requirement already satisfied: sympy==1.13.1 in /usr/local/lib/python3.11/dist-packages (from torch) (1.13.1)\n",
      "Requirement already satisfied: mpmath<1.4,>=1.1.0 in /usr/local/lib/python3.11/dist-packages (from sympy==1.13.1->torch) (1.3.0)\n",
      "Requirement already satisfied: hf-xet<2.0.0,>=1.1.2 in /usr/local/lib/python3.11/dist-packages (from huggingface-hub>=0.20.0->sentence-transformers) (1.1.3)\n",
      "Requirement already satisfied: MarkupSafe>=2.0 in /usr/local/lib/python3.11/dist-packages (from jinja2->torch) (3.0.2)\n",
      "Requirement already satisfied: charset-normalizer<4,>=2 in /usr/local/lib/python3.11/dist-packages (from requests->transformers) (3.4.2)\n",
      "Requirement already satisfied: idna<4,>=2.5 in /usr/local/lib/python3.11/dist-packages (from requests->transformers) (3.10)\n",
      "Requirement already satisfied: urllib3<3,>=1.21.1 in /usr/local/lib/python3.11/dist-packages (from requests->transformers) (2.4.0)\n",
      "Requirement already satisfied: certifi>=2017.4.17 in /usr/local/lib/python3.11/dist-packages (from requests->transformers) (2025.6.15)\n",
      "Requirement already satisfied: joblib>=1.2.0 in /usr/local/lib/python3.11/dist-packages (from scikit-learn->sentence-transformers) (1.5.1)\n",
      "Requirement already satisfied: threadpoolctl>=3.1.0 in /usr/local/lib/python3.11/dist-packages (from scikit-learn->sentence-transformers) (3.6.0)\n",
      "Downloading faiss_cpu-1.11.0-cp311-cp311-manylinux_2_28_x86_64.whl (31.3 MB)\n",
      "\u001b[2K   \u001b[90m\u2501\u2501\u2501\u2501\u2501\u2501\u2501\u2501\u2501\u2501\u2501\u2501\u2501\u2501\u2501\u2501\u2501\u2501\u2501\u2501\u2501\u2501\u2501\u2501\u2501\u2501\u2501\u2501\u2501\u2501\u2501\u2501\u2501\u2501\u2501\u2501\u2501\u2501\u2501\u2501\u001b[0m \u001b[32m31.3/31.3 MB\u001b[0m \u001b[31m49.3 MB/s\u001b[0m eta \u001b[36m0:00:00\u001b[0m\n",
      "\u001b[?25hDownloading nvidia_cublas_cu12-12.4.5.8-py3-none-manylinux2014_x86_64.whl (363.4 MB)\n",
      "\u001b[2K   \u001b[90m\u2501\u2501\u2501\u2501\u2501\u2501\u2501\u2501\u2501\u2501\u2501\u2501\u2501\u2501\u2501\u2501\u2501\u2501\u2501\u2501\u2501\u2501\u2501\u2501\u2501\u2501\u2501\u2501\u2501\u2501\u2501\u2501\u2501\u2501\u2501\u2501\u2501\u2501\u2501\u2501\u001b[0m \u001b[32m363.4/363.4 MB\u001b[0m \u001b[31m4.0 MB/s\u001b[0m eta \u001b[36m0:00:00\u001b[0m\n",
      "\u001b[?25hDownloading nvidia_cuda_cupti_cu12-12.4.127-py3-none-manylinux2014_x86_64.whl (13.8 MB)\n",
      "\u001b[2K   \u001b[90m\u2501\u2501\u2501\u2501\u2501\u2501\u2501\u2501\u2501\u2501\u2501\u2501\u2501\u2501\u2501\u2501\u2501\u2501\u2501\u2501\u2501\u2501\u2501\u2501\u2501\u2501\u2501\u2501\u2501\u2501\u2501\u2501\u2501\u2501\u2501\u2501\u2501\u2501\u2501\u2501\u001b[0m \u001b[32m13.8/13.8 MB\u001b[0m \u001b[31m94.1 MB/s\u001b[0m eta \u001b[36m0:00:00\u001b[0m\n",
      "\u001b[?25hDownloading nvidia_cuda_nvrtc_cu12-12.4.127-py3-none-manylinux2014_x86_64.whl (24.6 MB)\n",
      "\u001b[2K   \u001b[90m\u2501\u2501\u2501\u2501\u2501\u2501\u2501\u2501\u2501\u2501\u2501\u2501\u2501\u2501\u2501\u2501\u2501\u2501\u2501\u2501\u2501\u2501\u2501\u2501\u2501\u2501\u2501\u2501\u2501\u2501\u2501\u2501\u2501\u2501\u2501\u2501\u2501\u2501\u2501\u2501\u001b[0m \u001b[32m24.6/24.6 MB\u001b[0m \u001b[31m54.8 MB/s\u001b[0m eta \u001b[36m0:00:00\u001b[0m\n",
      "\u001b[?25hDownloading nvidia_cuda_runtime_cu12-12.4.127-py3-none-manylinux2014_x86_64.whl (883 kB)\n",
      "\u001b[2K   \u001b[90m\u2501\u2501\u2501\u2501\u2501\u2501\u2501\u2501\u2501\u2501\u2501\u2501\u2501\u2501\u2501\u2501\u2501\u2501\u2501\u2501\u2501\u2501\u2501\u2501\u2501\u2501\u2501\u2501\u2501\u2501\u2501\u2501\u2501\u2501\u2501\u2501\u2501\u2501\u2501\u2501\u001b[0m \u001b[32m883.7/883.7 kB\u001b[0m \u001b[31m43.1 MB/s\u001b[0m eta \u001b[36m0:00:00\u001b[0m\n",
      "\u001b[?25hDownloading nvidia_cudnn_cu12-9.1.0.70-py3-none-manylinux2014_x86_64.whl (664.8 MB)\n",
      "\u001b[2K   \u001b[90m\u2501\u2501\u2501\u2501\u2501\u2501\u2501\u2501\u2501\u2501\u2501\u2501\u2501\u2501\u2501\u2501\u2501\u2501\u2501\u2501\u2501\u2501\u2501\u2501\u2501\u2501\u2501\u2501\u2501\u2501\u2501\u2501\u2501\u2501\u2501\u2501\u2501\u2501\u2501\u2501\u001b[0m \u001b[32m664.8/664.8 MB\u001b[0m \u001b[31m2.2 MB/s\u001b[0m eta \u001b[36m0:00:00\u001b[0m\n",
      "\u001b[?25hDownloading nvidia_cufft_cu12-11.2.1.3-py3-none-manylinux2014_x86_64.whl (211.5 MB)\n",
      "\u001b[2K   \u001b[90m\u2501\u2501\u2501\u2501\u2501\u2501\u2501\u2501\u2501\u2501\u2501\u2501\u2501\u2501\u2501\u2501\u2501\u2501\u2501\u2501\u2501\u2501\u2501\u2501\u2501\u2501\u2501\u2501\u2501\u2501\u2501\u2501\u2501\u2501\u2501\u2501\u2501\u2501\u2501\u2501\u001b[0m \u001b[32m211.5/211.5 MB\u001b[0m \u001b[31m6.8 MB/s\u001b[0m eta \u001b[36m0:00:00\u001b[0m\n",
      "\u001b[?25hDownloading nvidia_curand_cu12-10.3.5.147-py3-none-manylinux2014_x86_64.whl (56.3 MB)\n",
      "\u001b[2K   \u001b[90m\u2501\u2501\u2501\u2501\u2501\u2501\u2501\u2501\u2501\u2501\u2501\u2501\u2501\u2501\u2501\u2501\u2501\u2501\u2501\u2501\u2501\u2501\u2501\u2501\u2501\u2501\u2501\u2501\u2501\u2501\u2501\u2501\u2501\u2501\u2501\u2501\u2501\u2501\u2501\u2501\u001b[0m \u001b[32m56.3/56.3 MB\u001b[0m \u001b[31m14.5 MB/s\u001b[0m eta \u001b[36m0:00:00\u001b[0m\n",
      "\u001b[?25hDownloading nvidia_cusolver_cu12-11.6.1.9-py3-none-manylinux2014_x86_64.whl (127.9 MB)\n",
      "\u001b[2K   \u001b[90m\u2501\u2501\u2501\u2501\u2501\u2501\u2501\u2501\u2501\u2501\u2501\u2501\u2501\u2501\u2501\u2501\u2501\u2501\u2501\u2501\u2501\u2501\u2501\u2501\u2501\u2501\u2501\u2501\u2501\u2501\u2501\u2501\u2501\u2501\u2501\u2501\u2501\u2501\u2501\u2501\u001b[0m \u001b[32m127.9/127.9 MB\u001b[0m \u001b[31m7.8 MB/s\u001b[0m eta \u001b[36m0:00:00\u001b[0m\n",
      "\u001b[?25hDownloading nvidia_cusparse_cu12-12.3.1.170-py3-none-manylinux2014_x86_64.whl (207.5 MB)\n",
      "\u001b[2K   \u001b[90m\u2501\u2501\u2501\u2501\u2501\u2501\u2501\u2501\u2501\u2501\u2501\u2501\u2501\u2501\u2501\u2501\u2501\u2501\u2501\u2501\u2501\u2501\u2501\u2501\u2501\u2501\u2501\u2501\u2501\u2501\u2501\u2501\u2501\u2501\u2501\u2501\u2501\u2501\u2501\u2501\u001b[0m \u001b[32m207.5/207.5 MB\u001b[0m \u001b[31m6.5 MB/s\u001b[0m eta \u001b[36m0:00:00\u001b[0m\n",
      "\u001b[?25hDownloading nvidia_nvjitlink_cu12-12.4.127-py3-none-manylinux2014_x86_64.whl (21.1 MB)\n",
      "\u001b[2K   \u001b[90m\u2501\u2501\u2501\u2501\u2501\u2501\u2501\u2501\u2501\u2501\u2501\u2501\u2501\u2501\u2501\u2501\u2501\u2501\u2501\u2501\u2501\u2501\u2501\u2501\u2501\u2501\u2501\u2501\u2501\u2501\u2501\u2501\u2501\u2501\u2501\u2501\u2501\u2501\u2501\u2501\u001b[0m \u001b[32m21.1/21.1 MB\u001b[0m \u001b[31m82.9 MB/s\u001b[0m eta \u001b[36m0:00:00\u001b[0m\n",
      "\u001b[?25hInstalling collected packages: nvidia-nvjitlink-cu12, nvidia-curand-cu12, nvidia-cufft-cu12, nvidia-cuda-runtime-cu12, nvidia-cuda-nvrtc-cu12, nvidia-cuda-cupti-cu12, nvidia-cublas-cu12, faiss-cpu, nvidia-cusparse-cu12, nvidia-cudnn-cu12, nvidia-cusolver-cu12\n",
      "  Attempting uninstall: nvidia-nvjitlink-cu12\n",
      "    Found existing installation: nvidia-nvjitlink-cu12 12.5.82\n",
      "    Uninstalling nvidia-nvjitlink-cu12-12.5.82:\n",
      "      Successfully uninstalled nvidia-nvjitlink-cu12-12.5.82\n",
      "  Attempting uninstall: nvidia-curand-cu12\n",
      "    Found existing installation: nvidia-curand-cu12 10.3.6.82\n",
      "    Uninstalling nvidia-curand-cu12-10.3.6.82:\n",
      "      Successfully uninstalled nvidia-curand-cu12-10.3.6.82\n",
      "  Attempting uninstall: nvidia-cufft-cu12\n",
      "    Found existing installation: nvidia-cufft-cu12 11.2.3.61\n",
      "    Uninstalling nvidia-cufft-cu12-11.2.3.61:\n",
      "      Successfully uninstalled nvidia-cufft-cu12-11.2.3.61\n",
      "  Attempting uninstall: nvidia-cuda-runtime-cu12\n",
      "    Found existing installation: nvidia-cuda-runtime-cu12 12.5.82\n",
      "    Uninstalling nvidia-cuda-runtime-cu12-12.5.82:\n",
      "      Successfully uninstalled nvidia-cuda-runtime-cu12-12.5.82\n",
      "  Attempting uninstall: nvidia-cuda-nvrtc-cu12\n",
      "    Found existing installation: nvidia-cuda-nvrtc-cu12 12.5.82\n",
      "    Uninstalling nvidia-cuda-nvrtc-cu12-12.5.82:\n",
      "      Successfully uninstalled nvidia-cuda-nvrtc-cu12-12.5.82\n",
      "  Attempting uninstall: nvidia-cuda-cupti-cu12\n",
      "    Found existing installation: nvidia-cuda-cupti-cu12 12.5.82\n",
      "    Uninstalling nvidia-cuda-cupti-cu12-12.5.82:\n",
      "      Successfully uninstalled nvidia-cuda-cupti-cu12-12.5.82\n",
      "  Attempting uninstall: nvidia-cublas-cu12\n",
      "    Found existing installation: nvidia-cublas-cu12 12.5.3.2\n",
      "    Uninstalling nvidia-cublas-cu12-12.5.3.2:\n",
      "      Successfully uninstalled nvidia-cublas-cu12-12.5.3.2\n",
      "  Attempting uninstall: nvidia-cusparse-cu12\n",
      "    Found existing installation: nvidia-cusparse-cu12 12.5.1.3\n",
      "    Uninstalling nvidia-cusparse-cu12-12.5.1.3:\n",
      "      Successfully uninstalled nvidia-cusparse-cu12-12.5.1.3\n",
      "  Attempting uninstall: nvidia-cudnn-cu12\n",
      "    Found existing installation: nvidia-cudnn-cu12 9.3.0.75\n",
      "    Uninstalling nvidia-cudnn-cu12-9.3.0.75:\n",
      "      Successfully uninstalled nvidia-cudnn-cu12-9.3.0.75\n",
      "  Attempting uninstall: nvidia-cusolver-cu12\n",
      "    Found existing installation: nvidia-cusolver-cu12 11.6.3.83\n",
      "    Uninstalling nvidia-cusolver-cu12-11.6.3.83:\n",
      "      Successfully uninstalled nvidia-cusolver-cu12-11.6.3.83\n",
      "Successfully installed faiss-cpu-1.11.0 nvidia-cublas-cu12-12.4.5.8 nvidia-cuda-cupti-cu12-12.4.127 nvidia-cuda-nvrtc-cu12-12.4.127 nvidia-cuda-runtime-cu12-12.4.127 nvidia-cudnn-cu12-9.1.0.70 nvidia-cufft-cu12-11.2.1.3 nvidia-curand-cu12-10.3.5.147 nvidia-cusolver-cu12-11.6.1.9 nvidia-cusparse-cu12-12.3.1.170 nvidia-nvjitlink-cu12-12.4.127\n"
     ]
    }
   ],
   "source": [
    "!pip install sentence-transformers faiss-cpu transformers torch"
   ]
  },
  {
   "cell_type": "code",
   "source": [
    "documents" = [
    "To track your Amazon order, log into your account, go to 'Your Orders,' and click 'Track Package' for real-time updates.",
    "Amazon's return policy allows most items to be returned within 30 days of delivery for a full refund.",
    "To return an Amazon order, initiate a return through 'Your Orders,' ship the item back, and receive a refund once processed.",
    "To contact Amazon customer service, use the 'Help' section on the website or app to chat, call, or email support.",
    "Amazon Prime members receive free two-day shipping, exclusive deals, and access to Prime Video and Music.",
    "If your Amazon package is delayed, check the estimated delivery date in 'Your Orders' or contact customer service for assistance.",
    "To cancel an Amazon order, go to 'Your Orders,' select the order, and click 'Cancel Items' if it hasn't shipped yet.",
    "To purchase an Amazon gift card, visit the Amazon website, navigate to 'Gift Cards,' select a design and amount, add to cart, and complete the purchase at checkout; the gift card can be redeemed for eligible products.",
    "To update your Amazon payment method, go to 'Your Account,' select 'Your Payments,' and add or edit your card details.",
    "To log into your Amazon account, go to the Amazon website or app, click 'Sign In,' and enter your email or phone number and password.",
    "To enable two-factor authentication, go to 'Login & Security' under 'Your Account' and turn on Two-Step Verification.",
    "To manage your delivery address, go to 'Your Addresses' and add, remove, or update your saved addresses.",
    "To use Amazon Locker, select a locker location during checkout. You'll receive a code to pick up your package within 3 days of delivery.",
    "To check your invoice or download one, go to 'Your Orders,' select the item, and click 'Invoice' or 'Order Details.'",
    "To manage digital purchases like Kindle books or movies, go to 'Your Content and Devices' in your account settings.",
    "To review your order history, open 'Your Orders' and filter by year, order status, or item category.",
    "To change your account password, go to 'Login & Security' and click 'Edit' next to the password field.",
    "To redeem a gift card, go to 'Your Account' > 'Gift Cards' > 'Redeem a Gift Card' and enter the claim code.",
    "To sign out of your Amazon account, click on 'Account & Lists' at the top right and choose 'Sign Out' from the dropdown.",
    "To change your preferred language or currency, scroll to the bottom of the Amazon page and select the appropriate settings under the globe and currency icons.",
    
    "To subscribe to items using Subscribe & Save, go to the product page, choose 'Subscribe & Save' instead of 'One-Time Purchase,' and select your delivery frequency.",
    "To manage or cancel Subscribe & Save orders, go to 'Your Subscribe & Save Items' under 'Your Account' and adjust quantities, frequency, or cancel at any time.",
    "To join Amazon Household and share Prime benefits with family members, go to 'Your Account' > 'Amazon Household' and invite an adult or child.",
    "To check your Prime membership status or renew it, go to 'Your Account' > 'Prime Membership' and review your plan and renewal settings.",
    "To leave a product review, go to 'Your Orders,' find the item, and click 'Write a product review' to rate and comment.",
    "To create a return label manually, go to 'Returns Center,' find your order, and choose 'Return Items' to generate a printable label.",
    "To set delivery preferences like leaving a package at the door or with a security guard, update your delivery instructions in 'Your Addresses'.",
    "To download the Amazon app, visit the Google Play Store or Apple App Store, search for 'Amazon,' and install the app on your phone.",
    "To sign up as a seller, visit 'sell.amazon.in' or 'sellercentral.amazon.com' and register your business with necessary documents.",
    "To contact a seller on Amazon, go to the product page or your order, click on the seller's name, and choose 'Ask a Question' to send a message.",
   ],
   "metadata": {
    "id": "m0xUHFEzjvNe"
   },
   "execution_count": null,
   "outputs": []
  },
  {
   "cell_type": "code",
   "source": [
    "from sentence_transformers import SentenceTransformer\n",
    "import numpy as np\n",
    "\n",
    "embedding_model = SentenceTransformer('all-MiniLM-L6-v2')\n",
    "\n",
    "doc_embeddings = embedding_model.encode(documents)\n",
    "doc_embeddings = np.array(doc_embeddings).astype('float32')"
   ],
   "metadata": {
    "colab": {
     "base_uri": "https://localhost:8080/",
     "height": 498,
     "referenced_widgets": [
      "8d10f6160d9a48b29a790836d5cb69ba",
      "5d647c182aeb464492ec7d15f71a6e2e",
      "133a21fb3aad4c4a90425571c35ad43b",
      "39d06e5c1e7541abaa39624b4d0f2ce2",
      "263871969a2e4285b36094f7ecc3f74c",
      "772e7e288ed94badb1e87a03f199a939",
      "51da94af38944d05a465594f69da368d",
      "733ed070f1c3483ca028423ee450dd63",
      "e1fc0ea42491416199b0c712ac6f9e3f",
      "0004dcef270244d99849e0b39182865d",
      "fa2cbe8e8f624301bee46fcd5ca2f9ad",
      "225a0799c0e545f5a173895ced5e7e98",
      "7ef5d7b983e5489184e7b9e7cfc0086b",
      "8a3cdd486da94baeb6624ff2ce8d20dc",
      "1b13e06f6bd343c7acea1cdb2836e543",
      "8e60a467866649c09a96de22aa2f3ded",
      "c6aa738272fb45eeaf0ba7535e54cd10",
      "60dac92e5d4e427b83bc06cc5bcd1af0",
      "1ec8f07a57a843d9af28cc593509d28a",
      "46b50a7106c042a6a6caa3e56b5008aa",
      "9297be05a4714e7ca577a42409457ebf",
      "95aed6444ec94401b087b6c7c3d45a72",
      "1b2ab01d1c0c46ed8bc44b381302bd3d",
      "7dc044c2843845d1a906ba2b538c16c6",
      "c4d39427b328438890ef42f8e095096d",
      "0630a65e1e614eb1832385adfcc5b778",
      "d3f2353b3b114900aa808021a0ae69e5",
      "fa80eef8ad9945688997328eb6d1143f",
      "865ab7a33f114a98b8e212a4d4492a88",
      "6ab2372030044fe5acdc5ad201646b53",
      "9c71805be9924f189183f261f45b159e",
      "83dfda88759142468f2d4820fb170811",
      "509b6e9975c2417096841a9551ca48d1",
      "3c2210010d684e4a94cd15bf3f288d71",
      "2e58f892bf92431a878c305be846c436",
      "ee6d20d7688b4762b0f709f04272e03c",
      "843c80c011f14bdda16c790edfa4e55a",
      "df523189a271437aa8adbc2fa2fb6f25",
      "b13f94742ac3417bbbd2a063b3cf14b6",
      "f250d4ac80ec4df094c194602d2d1a27",
      "7e6a6cbf146a40ac91de1e660f678f64",
      "4bfe9b7e453743c9bf9923dda97e278a",
      "9ecf492fb7414ea09707358850491174",
      "955b376084ab471a9628ff62a9b5596d",
      "df40f9133eae4dd395bf53b73ed08ce8",
      "2f74121dbdfe4c25a65ee2f722793404",
      "f99b6f6e51fb4846a004c812b588a98c",
      "efa9f4b1f1364d0282f3ed38030e7ee4",
      "3eb7d5b5716747b3b2928b5fab6eee0f",
      "12d7b6e62f844e43a33cbf4f77db3e9c",
      "a3bf199a3acb4780af9eee9126880b65",
      "d79b41d2b7684298a8a490a43b83e85c",
      "0174b43ecbd64445a2107cb13e1af524",
      "9299b37cc2fb4626968608f1969cd534",
      "c4043d4a5a64429dadfd49bab7ef9ff9",
      "351d379a314848f2b40a61e67b0f9045",
      "0bd6efefd89241219f6f5730c7e1e980",
      "25a2d023d9e7465fa8e4c04226896115",
      "8a129ee99ff44370afefb106cd5dcf71",
      "87aac8cd14b2432cba728c36ec59b553",
      "90fdf0e8d39647d8b7e53f9566d10464",
      "a6a876949f104838b7297835081d534b",
      "9b7a3869b3754bf8bdbbe501ec7e4fe6",
      "33b9882d8a804a01beda165f42148bfd",
      "489af13b6c64482fb8e93b0159bfc517",
      "9b84b07089c04f16bdf5aeb73804ac3b",
      "226507a9b6854326833b85d0a555d612",
      "6b9182ff05364df1b19eef934c9c0bc6",
      "a06fa674488a40b0a75a8fb2f411effd",
      "cdf84f10ab25475d940b90b37d313786",
      "0ba879ad6d1e4c0385150b9e00d40034",
      "9598bd1568bf4b85ad8f79ef524e3873",
      "5e0af647cfe94c56a7b920980f847cca",
      "fa9f5ad11b4f4197b17c3e7955a6bd46",
      "c02c1fd88ef94b848fd31380beb4c451",
      "337861b1fa144c09a4f70faf00cae573",
      "9ea9641a81744e4dbb30e3bb57039006",
      "ae38e3b9e1f144dd88290ba32455bbd4",
      "de4cfa96d1a842cba1a6e81d0943edee",
      "329b257fe6874a288e8fbfc9ea3a4b80",
      "1a13a33560254464a86345ec38012eb4",
      "2a2f59c94b064b76a6ed40d834c279dd",
      "54570944a9fc4e949b8968787a11018b",
      "29a4979620ce4690833034a0176f8e23",
      "c46e4e8a9ca74afa99080ba78a2e2a67",
      "883a68d8f6d04ff886a24dc0d49231e2",
      "1ad6a4608de648589cdb99466c77da04",
      "b1f7eb2538634014b0cedb3b99d56141",
      "4d6a0d8b61bd494ea6b11d4cb656ede1",
      "16bf8badea4b43b6bcb35c621e0e93d9",
      "dfb1bd82b02e4b25828169fd54801ad3",
      "e52b63a8e2654f15aea8f80ecbe56916",
      "109bf76d827848dfb28b47ce68d5e649",
      "84b956909be049ee894a4ca583aa6f19",
      "eb111565cf084f36bedb574e2cbe5843",
      "58a85af3a9be4727ab8e717ba8c74645",
      "0a62f81250d946b3b26c9c8537549a2b",
      "5209d1ad6d9446c3833cc518032aa35f",
      "0937a585f940498a80e420fa181280e2",
      "c020c41447be4b17b5a9883bee6351c4",
      "cf37beeb09cf413bb4fb7f2ff45f9aff",
      "52a7ce9c53444ab5939065e818cf5976",
      "62f6aaab1a66422ba7481f7362df1a65",
      "c88db66f757d479e91f0c316b10ae506",
      "fc908647ae724b319b250c8638c9dfb5",
      "7b952a7886ae4fb9af9ece30557cfe93",
      "0c3f9cb32ad6412a885d865f1e249d39",
      "fe49ff55e5a04060bf9ebd6261dba7bc",
      "7c0ca617c9ea426fa854f1eccf2afdca",
      "24722f5b65994bcabc08b596ec399f40",
      "e00520d70b594b679cc3233232f2fe45",
      "e0b233448eef45288daf677813d472be",
      "f2d76f3a7ddc4e82a1ec27095ae3b29a",
      "9ff714cfcc2d4bc695d8d37729e1cb98",
      "683d8d89725b4422882f9585450d2c46",
      "2f34572c742d4edaa1f47aabfc267de1",
      "2968a4aaf4da478095e34b20dc8e95bb",
      "3e1c2a632d1f430b95bd4c0e085ab636",
      "e99550ad7e6a4513bce236af1244d773",
      "362e3c96b06b4bdd9cd21e2418b6a7e5",
      "dbf08c8fb07045f0a850d3f510a04be8"
     ]
    },
    "collapsed": true,
    "id": "pzjB_GO-jxS1",
    "outputId": "c60a236b-d6ba-4b03-e9ef-83ab4e62ecfc"
   },
   "execution_count": null,
   "outputs": [
    {
     "output_type": "stream",
     "name": "stderr",
     "text": [
      "/usr/local/lib/python3.11/dist-packages/huggingface_hub/utils/_auth.py:94: UserWarning: \n",
      "The secret `HF_TOKEN` does not exist in your Colab secrets.\n",
      "To authenticate with the Hugging Face Hub, create a token in your settings tab (https://huggingface.co/settings/tokens), set it as secret in your Google Colab and restart your session.\n",
      "You will be able to reuse this secret in all of your notebooks.\n",
      "Please note that authentication is recommended but still optional to access public models or datasets.\n",
      "  warnings.warn(\n"
     ]
    },
    {
     "output_type": "display_data",
     "data": {
      "text/plain": [
       "modules.json:   0%|          | 0.00/349 [00:00<?, ?B/s]"
      ],
      "application/vnd.jupyter.widget-view+json": {
       "version_major": 2,
       "version_minor": 0,
       "model_id": "8d10f6160d9a48b29a790836d5cb69ba"
      }
     },
     "metadata": {}
    },
    {
     "output_type": "display_data",
     "data": {
      "text/plain": [
       "config_sentence_transformers.json:   0%|          | 0.00/116 [00:00<?, ?B/s]"
      ],
      "application/vnd.jupyter.widget-view+json": {
       "version_major": 2,
       "version_minor": 0,
       "model_id": "225a0799c0e545f5a173895ced5e7e98"
      }
     },
     "metadata": {}
    },
    {
     "output_type": "display_data",
     "data": {
      "text/plain": [
       "README.md:   0%|          | 0.00/10.5k [00:00<?, ?B/s]"
      ],
      "application/vnd.jupyter.widget-view+json": {
       "version_major": 2,
       "version_minor": 0,
       "model_id": "1b2ab01d1c0c46ed8bc44b381302bd3d"
      }
     },
     "metadata": {}
    },
    {
     "output_type": "display_data",
     "data": {
      "text/plain": [
       "sentence_bert_config.json:   0%|          | 0.00/53.0 [00:00<?, ?B/s]"
      ],
      "application/vnd.jupyter.widget-view+json": {
       "version_major": 2,
       "version_minor": 0,
       "model_id": "3c2210010d684e4a94cd15bf3f288d71"
      }
     },
     "metadata": {}
    },
    {
     "output_type": "display_data",
     "data": {
      "text/plain": [
       "config.json:   0%|          | 0.00/612 [00:00<?, ?B/s]"
      ],
      "application/vnd.jupyter.widget-view+json": {
       "version_major": 2,
       "version_minor": 0,
       "model_id": "df40f9133eae4dd395bf53b73ed08ce8"
      }
     },
     "metadata": {}
    },
    {
     "output_type": "display_data",
     "data": {
      "text/plain": [
       "model.safetensors:   0%|          | 0.00/90.9M [00:00<?, ?B/s]"
      ],
      "application/vnd.jupyter.widget-view+json": {
       "version_major": 2,
       "version_minor": 0,
       "model_id": "351d379a314848f2b40a61e67b0f9045"
      }
     },
     "metadata": {}
    },
    {
     "output_type": "display_data",
     "data": {
      "text/plain": [
       "tokenizer_config.json:   0%|          | 0.00/350 [00:00<?, ?B/s]"
      ],
      "application/vnd.jupyter.widget-view+json": {
       "version_major": 2,
       "version_minor": 0,
       "model_id": "226507a9b6854326833b85d0a555d612"
      }
     },
     "metadata": {}
    },
    {
     "output_type": "display_data",
     "data": {
      "text/plain": [
       "vocab.txt:   0%|          | 0.00/232k [00:00<?, ?B/s]"
      ],
      "application/vnd.jupyter.widget-view+json": {
       "version_major": 2,
       "version_minor": 0,
       "model_id": "ae38e3b9e1f144dd88290ba32455bbd4"
      }
     },
     "metadata": {}
    },
    {
     "output_type": "display_data",
     "data": {
      "text/plain": [
       "tokenizer.json:   0%|          | 0.00/466k [00:00<?, ?B/s]"
      ],
      "application/vnd.jupyter.widget-view+json": {
       "version_major": 2,
       "version_minor": 0,
       "model_id": "4d6a0d8b61bd494ea6b11d4cb656ede1"
      }
     },
     "metadata": {}
    },
    {
     "output_type": "display_data",
     "data": {
      "text/plain": [
       "special_tokens_map.json:   0%|          | 0.00/112 [00:00<?, ?B/s]"
      ],
      "application/vnd.jupyter.widget-view+json": {
       "version_major": 2,
       "version_minor": 0,
       "model_id": "c020c41447be4b17b5a9883bee6351c4"
      }
     },
     "metadata": {}
    },
    {
     "output_type": "display_data",
     "data": {
      "text/plain": [
       "config.json:   0%|          | 0.00/190 [00:00<?, ?B/s]"
      ],
      "application/vnd.jupyter.widget-view+json": {
       "version_major": 2,
       "version_minor": 0,
       "model_id": "e00520d70b594b679cc3233232f2fe45"
      }
     },
     "metadata": {}
    }
   ]
  },
  {
   "cell_type": "code",
   "source": [
    "import faiss\n",
    "\n",
    "dimension = doc_embeddings.shape[1]\n",
    "index = faiss.IndexFlatIP(dimension)\n",
    "faiss.normalize_L2(doc_embeddings)\n",
    "index.add(doc_embeddings)"
   ],
   "metadata": {
    "id": "FTBZZhXgndyo"
   },
   "execution_count": null,
   "outputs": []
  },
  {
   "cell_type": "code",
   "source": [
    "from transformers import pipeline\n",
    "\n",
    "generator = pipeline('text2text-generation', model='google/flan-t5-small', tokenizer='google/flan-t5-small')"
   ],
   "metadata": {
    "colab": {
     "base_uri": "https://localhost:8080/",
     "height": 259,
     "referenced_widgets": [
      "fc78344f9ad3440991552c78435d32f9",
      "e548751cd56d4365b60670dfc698b90b",
      "d9d9540683b0402994f42d8726f1ed98",
      "b1c4277ee63d4cd59f078d134c31a39c",
      "7fffe33ce5d743b0b8135b102b0c21f0",
      "a478fe67ca814dd482aa985e8d22fb49",
      "dbb9290849404a7e8350bc59c590386f",
      "6c5a76e83d23479a9d67fdb2de18eb2c",
      "f78ae22a71194dcb90d890d1aa8aea58",
      "7fce7f1009ec498c860af89d955f5595",
      "90373b771dbe45b9a418afa51f14109b",
      "671733ce032c400dad4f7a113c7016e7",
      "bea37c4109b74646b7e67bb551b59678",
      "bb37fa56123540eaa6066ea5ca45bfcc",
      "a08982ab79d349db88c78e1e24e2df9a",
      "8a173f2c45114b2faa4afa5f4a77e8a4",
      "40409a5391d644f28105df713b5d2ce9",
      "d5a3e041e8704a4986cc42a312cffa99",
      "6bffdd94d91c4d0f8fccf5ef7179167d",
      "bfc6fcc483a642018891bc41a2e5305a",
      "973029e5ad8d411281f7a6d78d3bd1cc",
      "d487d02d3f344dd1936296bbf80abd06",
      "36802ce58988481b96f98d03a7bb445a",
      "e68bbba6cf4644b29c936341e977fd21",
      "b59562c99679406dbaf6cd29010c995f",
      "869202022b8045609ff1126f25d71495",
      "5642396e94504feca310b805ff3496c3",
      "37b8592b73a64c1d8cb350f9ed80e800",
      "82c556d9570341bb92d8e7232f0123fe",
      "6a1458ddf7514a80b3703e68a4606a12",
      "72ae0bd7c7934dc69032d03bccb45f4d",
      "1b0095ef6dea40fda58edcf7199e7640",
      "de0ae9203324476c93ab91c7fcef9eaf",
      "1d247ca8513841149654a8d491e8ecaf",
      "5b4580724dfc4983a460d8862c4bb977",
      "108517b9176b4f54994d2fa5e0d94564",
      "07428f9c8a0f4c40881f14bda015b825",
      "5c96c8ec67784000986199d08d9d15cf",
      "bf2816b29c184f99b230b637abd399b1",
      "70b7b223f7344ad4b7b7f959bff71d96",
      "14e51f493e5d411fb8bd7a17d6f31fbe",
      "4cd81f8f910f4ad381a286f655f78cb2",
      "cb2dad8dc4bd4af89e9d8f1596eda98f",
      "1119077a6031440d91cebb71297133f7",
      "cbedcc9b0e4642638a010173b5b099d3",
      "13caf3a5b1ea4d23937b82bd1f715899",
      "d97ff69e508944f4bef443863308dbbc",
      "b9d15620b93b443bbbc19849f9acff58",
      "fa29fae27a3c4106b2dd81b9fa1c24e9",
      "6415c048373b4019bdb1db2973c70789",
      "5ec5f7f04b224b3ebe0fc0a8ce06eefd",
      "ed64b470c3e7453db7f240917bc01141",
      "943e60475e4341d1a394fdf865409873",
      "202f3c6dddf24ac58f8bf375c164f139",
      "67317b4220b94d4d8ea2354a47d3ba6f",
      "761946b79bae4c49931b81cdad38f920",
      "371c5cf8e2af4b618fb59047225d626f",
      "6b93d9d8f20e48fbbd27e95eb3e4c794",
      "0bcdc3a6d1a64aadbb86bff8a2e6b3a1",
      "b211a7d334384e9abecd1cfd0c6e1161",
      "f7831eca9a964963a062db583b913c0a",
      "fa2674504c8148bfa337af4bab6a4b5f",
      "bba8357b78d443a5912c6ca461027006",
      "8dff64b24faa4578974fb9b92ac4f4ed",
      "a7e97b924ca4435b8ef0a08cb1318114",
      "fb26b5c5fc9c4437ae1763b3e32a39f5",
      "d38d64a864764046bfd18fec0664313c",
      "f80e92269f55440c9e1b640a32717b27",
      "9a53629b2a9c486fbfea04d70608e859",
      "fd15648714414125a32a85ff49789ba6",
      "70ef0648c34842cc8ca58f870cbc16c6",
      "29ee42a59f4e42b1bb04199a421e0478",
      "b887611d76af4318a4ac5adf0c3c9bf0",
      "182ccd534e8b44a6b6aa3f63e1eaf8b8",
      "e08118cc65fc49fd96d02a783840c679",
      "3c00792a351f4f0398a57bbebd254f07",
      "71652ef9f92446de97a64088ceed6d0c"
     ]
    },
    "id": "7IN5tkOEkEiA",
    "outputId": "cac7f153-474f-4f44-ebc1-3ac0103d6c9c"
   },
   "execution_count": null,
   "outputs": [
    {
     "output_type": "display_data",
     "data": {
      "text/plain": [
       "config.json:   0%|          | 0.00/1.40k [00:00<?, ?B/s]"
      ],
      "application/vnd.jupyter.widget-view+json": {
       "version_major": 2,
       "version_minor": 0,
       "model_id": "fc78344f9ad3440991552c78435d32f9"
      }
     },
     "metadata": {}
    },
    {
     "output_type": "display_data",
     "data": {
      "text/plain": [
       "model.safetensors:   0%|          | 0.00/308M [00:00<?, ?B/s]"
      ],
      "application/vnd.jupyter.widget-view+json": {
       "version_major": 2,
       "version_minor": 0,
       "model_id": "671733ce032c400dad4f7a113c7016e7"
      }
     },
     "metadata": {}
    },
    {
     "output_type": "display_data",
     "data": {
      "text/plain": [
       "generation_config.json:   0%|          | 0.00/147 [00:00<?, ?B/s]"
      ],
      "application/vnd.jupyter.widget-view+json": {
       "version_major": 2,
       "version_minor": 0,
       "model_id": "36802ce58988481b96f98d03a7bb445a"
      }
     },
     "metadata": {}
    },
    {
     "output_type": "display_data",
     "data": {
      "text/plain": [
       "tokenizer_config.json:   0%|          | 0.00/2.54k [00:00<?, ?B/s]"
      ],
      "application/vnd.jupyter.widget-view+json": {
       "version_major": 2,
       "version_minor": 0,
       "model_id": "1d247ca8513841149654a8d491e8ecaf"
      }
     },
     "metadata": {}
    },
    {
     "output_type": "display_data",
     "data": {
      "text/plain": [
       "spiece.model:   0%|          | 0.00/792k [00:00<?, ?B/s]"
      ],
      "application/vnd.jupyter.widget-view+json": {
       "version_major": 2,
       "version_minor": 0,
       "model_id": "cbedcc9b0e4642638a010173b5b099d3"
      }
     },
     "metadata": {}
    },
    {
     "output_type": "display_data",
     "data": {
      "text/plain": [
       "tokenizer.json:   0%|          | 0.00/2.42M [00:00<?, ?B/s]"
      ],
      "application/vnd.jupyter.widget-view+json": {
       "version_major": 2,
       "version_minor": 0,
       "model_id": "761946b79bae4c49931b81cdad38f920"
      }
     },
     "metadata": {}
    },
    {
     "output_type": "display_data",
     "data": {
      "text/plain": [
       "special_tokens_map.json:   0%|          | 0.00/2.20k [00:00<?, ?B/s]"
      ],
      "application/vnd.jupyter.widget-view+json": {
       "version_major": 2,
       "version_minor": 0,
       "model_id": "d38d64a864764046bfd18fec0664313c"
      }
     },
     "metadata": {}
    },
    {
     "output_type": "stream",
     "name": "stderr",
     "text": [
      "Device set to use cpu\n"
     ]
    }
   ]
  },
  {
   "cell_type": "code",
   "source": [
    "def rag_answer(query, top_k=1, threshold=0.3):\n",
    "    query_embedding = embedding_model.encode([query]).astype('float32')\n",
    "    faiss.normalize_L2(query_embedding)\n",
    "\n",
    "    distances, indices = index.search(query_embedding, top_k)\n",
    "\n",
    "    if distances[0][0] < threshold:\n",
    "        return None, \"Sorry, I couldn't find a relevant answer to your question.\"\n",
    "\n",
    "    retrieved_doc = documents[indices[0][0]]\n",
    "\n",
    "    prompt = f\"Context: {retrieved_doc}\\nQuestion: {query}\\nAnswer in one sentence:\"\n",
    "\n",
    "    response = generator(prompt, max_new_tokens=50, do_sample=False, truncation=True)[0]['generated_text']\n",
    "\n",
    "    return retrieved_doc, response\n",
    "\n",
    "\n",
    "def run_qa_bot():\n",
    "    print(\"Welcome to the Amazon HelpBot! Ask me a question or type 'exit' to quit.\")\n",
    "    while True:\n",
    "        query = input(\"User: \")\n",
    "        if query.lower() == 'exit':\n",
    "            print(\"Goodbye!\")\n",
    "            break\n",
    "        if not query.strip():\n",
    "            print(\"Please enter a valid question.\")\n",
    "            continue\n",
    "        context, answer = rag_answer(query)\n",
    "\n",
    "        print(f\"HelpBot: {answer}\\n\")\n",
    "\n",
    "\n",
    "run_qa_bot()"
   ],
   "metadata": {
    "colab": {
     "base_uri": "https://localhost:8080/"
    },
    "id": "cEcTSeCkkjMz",
    "outputId": "9603ac84-8c8c-4268-f3d8-1a180b077b7f"
   },
   "execution_count": null,
   "outputs": [
    {
     "output_type": "stream",
     "name": "stdout",
     "text": [
      "Welcome to the Amazon HelpBot! Ask me a question or type 'exit' to quit.\n",
      "User: How do I login?\n",
      "HelpBot: Go to the Amazon website or app, click 'Sign In,' and enter your email or phone number and password.\n",
      "\n",
      "User: How to cancel order?\n",
      "HelpBot: Go to 'Your Orders,' select the order, and click 'Cancel Items' if it hasn't shipped yet.\n",
      "\n",
      "User: How to track order?\n",
      "HelpBot: Log into your account, go to 'Your Orders,' and click 'Track Package' for real-time updates.\n",
      "\n",
      "User: What do prime members receive?\n",
      "HelpBot: free two-day shipping, exclusive deals, and access to Prime Video and Music\n",
      "\n",
      "User: What are return policies?\n",
      "HelpBot: Amazon's return policy allows most items to be returned within 30 days of delivery for a full refund.\n",
      "\n",
      "User: exit\n",
      "Goodbye!\n"
     ]
    }
   ]
  }
 ]
}
